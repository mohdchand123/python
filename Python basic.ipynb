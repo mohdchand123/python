{
 "cells": [
  {
   "cell_type": "code",
   "execution_count": 1,
   "id": "537718c3-f077-4d9f-aa39-34b9557a3690",
   "metadata": {},
   "outputs": [],
   "source": [
    "s1= \"this my first class\""
   ]
  },
  {
   "cell_type": "code",
   "execution_count": 3,
   "id": "3184819f-ed38-4bd1-a2da-b36edad9c679",
   "metadata": {},
   "outputs": [
    {
     "data": {
      "text/plain": [
       "3"
      ]
     },
     "execution_count": 3,
     "metadata": {},
     "output_type": "execute_result"
    }
   ],
   "source": [
    "s1. find('s')"
   ]
  },
  {
   "cell_type": "code",
   "execution_count": 4,
   "id": "b127a757-a944-4eeb-9222-69e51002e8b8",
   "metadata": {},
   "outputs": [
    {
     "data": {
      "text/plain": [
       "2"
      ]
     },
     "execution_count": 4,
     "metadata": {},
     "output_type": "execute_result"
    }
   ],
   "source": [
    "s1.find(\"is\")"
   ]
  },
  {
   "cell_type": "code",
   "execution_count": 5,
   "id": "a50d593f-1bc7-48f8-bdc1-304386f7815f",
   "metadata": {},
   "outputs": [
    {
     "data": {
      "text/plain": [
       "-1"
      ]
     },
     "execution_count": 5,
     "metadata": {},
     "output_type": "execute_result"
    }
   ],
   "source": [
    "s1.find(\"Is\")"
   ]
  },
  {
   "cell_type": "code",
   "execution_count": 6,
   "id": "58c6c5e3-9178-4d73-ad63-4431a0db1708",
   "metadata": {},
   "outputs": [
    {
     "data": {
      "text/plain": [
       "4"
      ]
     },
     "execution_count": 6,
     "metadata": {},
     "output_type": "execute_result"
    }
   ],
   "source": [
    "s1.count('s')"
   ]
  },
  {
   "cell_type": "code",
   "execution_count": 11,
   "id": "d1ae9e67-2129-4ac2-b0b8-76bfdd70a195",
   "metadata": {},
   "outputs": [
    {
     "data": {
      "text/plain": [
       "'THIS MY FIRST CLASS'"
      ]
     },
     "execution_count": 11,
     "metadata": {},
     "output_type": "execute_result"
    }
   ],
   "source": [
    "s1.upper()"
   ]
  },
  {
   "cell_type": "code",
   "execution_count": 12,
   "id": "9ea273bb-8f52-45f9-901e-67c3f05ea453",
   "metadata": {},
   "outputs": [],
   "source": [
    "s2= \"THIS IS MY FIRST CLASS\""
   ]
  },
  {
   "cell_type": "code",
   "execution_count": 13,
   "id": "8cee854e-e5ef-4559-929e-ff22d30628e0",
   "metadata": {},
   "outputs": [
    {
     "data": {
      "text/plain": [
       "'this is my first class'"
      ]
     },
     "execution_count": 13,
     "metadata": {},
     "output_type": "execute_result"
    }
   ],
   "source": [
    "s2.lower()"
   ]
  },
  {
   "cell_type": "code",
   "execution_count": 20,
   "id": "6b2f4084-a6be-4d75-ad1d-12569280308b",
   "metadata": {},
   "outputs": [
    {
     "data": {
      "text/plain": [
       "'this my first class'"
      ]
     },
     "execution_count": 20,
     "metadata": {},
     "output_type": "execute_result"
    }
   ],
   "source": [
    "s1"
   ]
  },
  {
   "cell_type": "code",
   "execution_count": 19,
   "id": "e19b84f8-12c3-4db6-bc8d-a2e82024019e",
   "metadata": {},
   "outputs": [
    {
     "data": {
      "text/plain": [
       "'THIS IS MY FIRST CLASS'"
      ]
     },
     "execution_count": 19,
     "metadata": {},
     "output_type": "execute_result"
    }
   ],
   "source": [
    "s2"
   ]
  },
  {
   "cell_type": "code",
   "execution_count": 21,
   "id": "247aa16f-1f8b-443a-987d-af1ac211fcd1",
   "metadata": {},
   "outputs": [
    {
     "data": {
      "text/plain": [
       "'THIS MY FIRST CLASS'"
      ]
     },
     "execution_count": 21,
     "metadata": {},
     "output_type": "execute_result"
    }
   ],
   "source": [
    "s1.upper()"
   ]
  },
  {
   "cell_type": "code",
   "execution_count": 22,
   "id": "0bcc5dfe-97b1-4b68-888e-105bf3a40feb",
   "metadata": {},
   "outputs": [
    {
     "data": {
      "text/plain": [
       "'this is my first class'"
      ]
     },
     "execution_count": 22,
     "metadata": {},
     "output_type": "execute_result"
    }
   ],
   "source": [
    "s2.lower()"
   ]
  },
  {
   "cell_type": "code",
   "execution_count": 8,
   "id": "79eab209-1346-4e4e-932a-24f9f7cf800b",
   "metadata": {},
   "outputs": [],
   "source": [
    "s1= \"this is my first class\""
   ]
  },
  {
   "cell_type": "code",
   "execution_count": 9,
   "id": "4ccea802-fbc9-4bfd-89f3-7689e550e495",
   "metadata": {},
   "outputs": [
    {
     "data": {
      "text/plain": [
       "'this is my first class'"
      ]
     },
     "execution_count": 9,
     "metadata": {},
     "output_type": "execute_result"
    }
   ],
   "source": [
    "s1"
   ]
  },
  {
   "cell_type": "code",
   "execution_count": 10,
   "id": "efc548ff-9c8f-4c27-ad6e-84a332d058c7",
   "metadata": {},
   "outputs": [
    {
     "data": {
      "text/plain": [
       "'This Is My First Class'"
      ]
     },
     "execution_count": 10,
     "metadata": {},
     "output_type": "execute_result"
    }
   ],
   "source": [
    "s1.title()"
   ]
  },
  {
   "cell_type": "code",
   "execution_count": null,
   "id": "d41d1a63-b3fc-47fb-8c9e-6de5732968aa",
   "metadata": {},
   "outputs": [],
   "source": []
  }
 ],
 "metadata": {
  "kernelspec": {
   "display_name": "Python 3 (ipykernel)",
   "language": "python",
   "name": "python3"
  },
  "language_info": {
   "codemirror_mode": {
    "name": "ipython",
    "version": 3
   },
   "file_extension": ".py",
   "mimetype": "text/x-python",
   "name": "python",
   "nbconvert_exporter": "python",
   "pygments_lexer": "ipython3",
   "version": "3.10.8"
  }
 },
 "nbformat": 4,
 "nbformat_minor": 5
}
