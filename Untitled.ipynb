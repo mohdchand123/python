{
 "cells": [
  {
   "cell_type": "code",
   "execution_count": 1,
   "id": "3e5e0914-addc-4494-bda1-5a38c3269b09",
   "metadata": {},
   "outputs": [
    {
     "data": {
      "text/plain": [
       "5"
      ]
     },
     "execution_count": 1,
     "metadata": {},
     "output_type": "execute_result"
    }
   ],
   "source": [
    "2+3"
   ]
  },
  {
   "cell_type": "code",
   "execution_count": 2,
   "id": "6d2538e4-701a-41d0-9164-8b29db60d507",
   "metadata": {},
   "outputs": [
    {
     "data": {
      "text/plain": [
       "9"
      ]
     },
     "execution_count": 2,
     "metadata": {},
     "output_type": "execute_result"
    }
   ],
   "source": [
    "3*3"
   ]
  },
  {
   "cell_type": "code",
   "execution_count": 3,
   "id": "e4839b5b-12bc-4940-9444-4228b58f0053",
   "metadata": {},
   "outputs": [],
   "source": [
    "a=30"
   ]
  },
  {
   "cell_type": "code",
   "execution_count": 4,
   "id": "2f60dae4-a994-41d7-b5c1-d9c241db1079",
   "metadata": {},
   "outputs": [
    {
     "data": {
      "text/plain": [
       "30"
      ]
     },
     "execution_count": 4,
     "metadata": {},
     "output_type": "execute_result"
    }
   ],
   "source": [
    "a"
   ]
  },
  {
   "cell_type": "code",
   "execution_count": 5,
   "id": "433efaff-374d-41a7-bbe8-96003b726f77",
   "metadata": {},
   "outputs": [],
   "source": [
    "q=23"
   ]
  },
  {
   "cell_type": "code",
   "execution_count": 6,
   "id": "3baf54cf-3850-43e2-979e-cdd7f19b3260",
   "metadata": {},
   "outputs": [
    {
     "data": {
      "text/plain": [
       "23"
      ]
     },
     "execution_count": 6,
     "metadata": {},
     "output_type": "execute_result"
    }
   ],
   "source": [
    "q"
   ]
  },
  {
   "cell_type": "code",
   "execution_count": 7,
   "id": "35b29352-73d3-453c-b6f8-2f7311a89931",
   "metadata": {},
   "outputs": [
    {
     "data": {
      "text/plain": [
       "53"
      ]
     },
     "execution_count": 7,
     "metadata": {},
     "output_type": "execute_result"
    }
   ],
   "source": [
    "a+q"
   ]
  },
  {
   "cell_type": "code",
   "execution_count": 9,
   "id": "069a5a44-5ae0-466a-9eef-6ecea3d49be4",
   "metadata": {},
   "outputs": [],
   "source": [
    "chand=30"
   ]
  },
  {
   "cell_type": "code",
   "execution_count": 10,
   "id": "083bb9cd-9f1a-4d73-a587-ac6995caa4b6",
   "metadata": {},
   "outputs": [],
   "source": [
    "c=\"this is my python class\""
   ]
  },
  {
   "cell_type": "code",
   "execution_count": 11,
   "id": "bdf45982-9123-4076-9e2d-6541594cd3c8",
   "metadata": {},
   "outputs": [
    {
     "data": {
      "text/plain": [
       "'this is my python class'"
      ]
     },
     "execution_count": 11,
     "metadata": {},
     "output_type": "execute_result"
    }
   ],
   "source": [
    "c"
   ]
  },
  {
   "cell_type": "code",
   "execution_count": 12,
   "id": "a44df9e4-1d10-46c7-9ef1-2bf8376d25fb",
   "metadata": {},
   "outputs": [],
   "source": [
    "z=20.09"
   ]
  },
  {
   "cell_type": "code",
   "execution_count": 13,
   "id": "018c21bd-3458-417c-9e8d-22122dc786bf",
   "metadata": {},
   "outputs": [
    {
     "data": {
      "text/plain": [
       "20.09"
      ]
     },
     "execution_count": 13,
     "metadata": {},
     "output_type": "execute_result"
    }
   ],
   "source": [
    "z"
   ]
  },
  {
   "cell_type": "code",
   "execution_count": 14,
   "id": "844bf089-a34b-4559-9f4f-954947f7ab2c",
   "metadata": {},
   "outputs": [
    {
     "data": {
      "text/plain": [
       "float"
      ]
     },
     "execution_count": 14,
     "metadata": {},
     "output_type": "execute_result"
    }
   ],
   "source": [
    "type(z)"
   ]
  },
  {
   "cell_type": "code",
   "execution_count": 15,
   "id": "02c74b49-7535-4b62-9412-a290ca40595c",
   "metadata": {},
   "outputs": [
    {
     "data": {
      "text/plain": [
       "str"
      ]
     },
     "execution_count": 15,
     "metadata": {},
     "output_type": "execute_result"
    }
   ],
   "source": [
    "type(c)"
   ]
  },
  {
   "cell_type": "code",
   "execution_count": 16,
   "id": "aa3f2c18-22b7-48bf-9114-101961b7373d",
   "metadata": {},
   "outputs": [
    {
     "data": {
      "text/plain": [
       "int"
      ]
     },
     "execution_count": 16,
     "metadata": {},
     "output_type": "execute_result"
    }
   ],
   "source": [
    "type(a)"
   ]
  },
  {
   "cell_type": "code",
   "execution_count": 17,
   "id": "7774a314-ba7a-4068-bc58-afd7f2cd45bf",
   "metadata": {},
   "outputs": [],
   "source": [
    "s=True"
   ]
  },
  {
   "cell_type": "code",
   "execution_count": 18,
   "id": "0aa1cf4c-6444-4a5a-825d-05b98b69f531",
   "metadata": {},
   "outputs": [
    {
     "data": {
      "text/plain": [
       "bool"
      ]
     },
     "execution_count": 18,
     "metadata": {},
     "output_type": "execute_result"
    }
   ],
   "source": [
    "type(s)"
   ]
  },
  {
   "cell_type": "code",
   "execution_count": 19,
   "id": "bb3560db-f24b-4570-8a0b-837f10fbca8f",
   "metadata": {},
   "outputs": [],
   "source": [
    "w=False"
   ]
  },
  {
   "cell_type": "code",
   "execution_count": 20,
   "id": "2f161034-039c-4701-b8ae-04d612296206",
   "metadata": {},
   "outputs": [
    {
     "data": {
      "text/plain": [
       "bool"
      ]
     },
     "execution_count": 20,
     "metadata": {},
     "output_type": "execute_result"
    }
   ],
   "source": [
    "type(w)"
   ]
  },
  {
   "cell_type": "code",
   "execution_count": 21,
   "id": "94720258-f080-4b17-a707-a457a8a1c970",
   "metadata": {},
   "outputs": [
    {
     "data": {
      "text/plain": [
       "1"
      ]
     },
     "execution_count": 21,
     "metadata": {},
     "output_type": "execute_result"
    }
   ],
   "source": [
    "s+w"
   ]
  },
  {
   "cell_type": "code",
   "execution_count": 22,
   "id": "10dd486f-cdac-42be-b46b-3460fd5b0ce9",
   "metadata": {},
   "outputs": [
    {
     "data": {
      "text/plain": [
       "1"
      ]
     },
     "execution_count": 22,
     "metadata": {},
     "output_type": "execute_result"
    }
   ],
   "source": [
    "True*True"
   ]
  },
  {
   "cell_type": "code",
   "execution_count": 23,
   "id": "198a21b2-4a08-4c63-a21d-4426bbf774a9",
   "metadata": {},
   "outputs": [
    {
     "data": {
      "text/plain": [
       "0"
      ]
     },
     "execution_count": 23,
     "metadata": {},
     "output_type": "execute_result"
    }
   ],
   "source": [
    "False*False"
   ]
  },
  {
   "cell_type": "code",
   "execution_count": 24,
   "id": "8d60f020-0202-4535-b584-715d22f73139",
   "metadata": {},
   "outputs": [
    {
     "data": {
      "text/plain": [
       "0"
      ]
     },
     "execution_count": 24,
     "metadata": {},
     "output_type": "execute_result"
    }
   ],
   "source": [
    "True*False"
   ]
  },
  {
   "cell_type": "code",
   "execution_count": null,
   "id": "c13a5961-e22c-4b46-ae0f-3446f8f2473d",
   "metadata": {},
   "outputs": [],
   "source": [
    "True*False"
   ]
  },
  {
   "cell_type": "code",
   "execution_count": 2,
   "id": "378d66cc-85a5-4bfa-bdae-cf352a3381ab",
   "metadata": {},
   "outputs": [],
   "source": [
    "chand=2+6j"
   ]
  },
  {
   "cell_type": "code",
   "execution_count": 3,
   "id": "6e53bb4c-56ff-418c-9eea-ce1e75317a73",
   "metadata": {},
   "outputs": [
    {
     "data": {
      "text/plain": [
       "complex"
      ]
     },
     "execution_count": 3,
     "metadata": {},
     "output_type": "execute_result"
    }
   ],
   "source": [
    "type(chand)"
   ]
  },
  {
   "cell_type": "code",
   "execution_count": 4,
   "id": "13bef3cf-44e5-459b-8c04-f21cebb27aa3",
   "metadata": {},
   "outputs": [
    {
     "name": "stdout",
     "output_type": "stream",
     "text": [
      "(2+6j)\n"
     ]
    }
   ],
   "source": [
    "print(chand)"
   ]
  },
  {
   "cell_type": "code",
   "execution_count": 9,
   "id": "79216765-cb21-4012-af85-a840c45db064",
   "metadata": {},
   "outputs": [],
   "source": [
    "s = \"pwskills\""
   ]
  },
  {
   "cell_type": "code",
   "execution_count": 10,
   "id": "eae3f5b8-fc98-49fb-a60c-3c6bafeef729",
   "metadata": {},
   "outputs": [
    {
     "data": {
      "text/plain": [
       "str"
      ]
     },
     "execution_count": 10,
     "metadata": {},
     "output_type": "execute_result"
    }
   ],
   "source": [
    "type(\"s\")"
   ]
  },
  {
   "cell_type": "code",
   "execution_count": 11,
   "id": "1bb30352-c34d-4ae5-8a48-c65df6c16d8f",
   "metadata": {},
   "outputs": [
    {
     "data": {
      "text/plain": [
       "'p'"
      ]
     },
     "execution_count": 11,
     "metadata": {},
     "output_type": "execute_result"
    }
   ],
   "source": [
    "s[0]"
   ]
  },
  {
   "cell_type": "code",
   "execution_count": 12,
   "id": "a9b699b0-1355-4b91-a97b-ed6a899ca386",
   "metadata": {},
   "outputs": [
    {
     "data": {
      "text/plain": [
       "'i'"
      ]
     },
     "execution_count": 12,
     "metadata": {},
     "output_type": "execute_result"
    }
   ],
   "source": [
    "s[4]"
   ]
  },
  {
   "cell_type": "code",
   "execution_count": 13,
   "id": "27f07c25-c210-4d74-b2a9-072cbe1a033a",
   "metadata": {},
   "outputs": [
    {
     "data": {
      "text/plain": [
       "'s'"
      ]
     },
     "execution_count": 13,
     "metadata": {},
     "output_type": "execute_result"
    }
   ],
   "source": [
    "s[2]"
   ]
  },
  {
   "cell_type": "code",
   "execution_count": 14,
   "id": "4c01ed37-8cc1-4664-aa79-a7104849b326",
   "metadata": {},
   "outputs": [
    {
     "data": {
      "text/plain": [
       "'k'"
      ]
     },
     "execution_count": 14,
     "metadata": {},
     "output_type": "execute_result"
    }
   ],
   "source": [
    "s[3]"
   ]
  },
  {
   "cell_type": "code",
   "execution_count": 15,
   "id": "851833a2-8a59-4abc-b028-b1f4a58d41a8",
   "metadata": {},
   "outputs": [
    {
     "data": {
      "text/plain": [
       "'s'"
      ]
     },
     "execution_count": 15,
     "metadata": {},
     "output_type": "execute_result"
    }
   ],
   "source": [
    "s[7]"
   ]
  },
  {
   "cell_type": "code",
   "execution_count": 16,
   "id": "78f3a42d-85da-4cb1-a170-f8503f7c6a9f",
   "metadata": {},
   "outputs": [
    {
     "data": {
      "text/plain": [
       "'s'"
      ]
     },
     "execution_count": 16,
     "metadata": {},
     "output_type": "execute_result"
    }
   ],
   "source": [
    "s[-1]"
   ]
  },
  {
   "cell_type": "code",
   "execution_count": 17,
   "id": "73bbcf3f-af3b-4df2-8405-616879f1622d",
   "metadata": {},
   "outputs": [
    {
     "data": {
      "text/plain": [
       "'k'"
      ]
     },
     "execution_count": 17,
     "metadata": {},
     "output_type": "execute_result"
    }
   ],
   "source": [
    "s[-5]"
   ]
  },
  {
   "cell_type": "code",
   "execution_count": 18,
   "id": "3a18b80e-c57a-4681-b4d2-875d00c1519a",
   "metadata": {},
   "outputs": [
    {
     "data": {
      "text/plain": [
       "'p'"
      ]
     },
     "execution_count": 18,
     "metadata": {},
     "output_type": "execute_result"
    }
   ],
   "source": [
    "s[-8]"
   ]
  },
  {
   "cell_type": "code",
   "execution_count": 19,
   "id": "71c2b932-f56a-4270-829c-b62e9eaf882e",
   "metadata": {},
   "outputs": [
    {
     "data": {
      "text/plain": [
       "'pws'"
      ]
     },
     "execution_count": 19,
     "metadata": {},
     "output_type": "execute_result"
    }
   ],
   "source": [
    "s[0:3]"
   ]
  },
  {
   "cell_type": "code",
   "execution_count": 20,
   "id": "3be55be1-4a61-4f08-a6a0-9c6e7235cc7d",
   "metadata": {},
   "outputs": [
    {
     "data": {
      "text/plain": [
       "'pwskil'"
      ]
     },
     "execution_count": 20,
     "metadata": {},
     "output_type": "execute_result"
    }
   ],
   "source": [
    "s[0:6]"
   ]
  },
  {
   "cell_type": "code",
   "execution_count": 21,
   "id": "1626164c-d121-4e03-a0bb-feadb0a1ec2a",
   "metadata": {},
   "outputs": [
    {
     "data": {
      "text/plain": [
       "'pwskill'"
      ]
     },
     "execution_count": 21,
     "metadata": {},
     "output_type": "execute_result"
    }
   ],
   "source": [
    "s[0:8-1]"
   ]
  },
  {
   "cell_type": "code",
   "execution_count": 25,
   "id": "7d8c54f4-3d58-460b-ae2b-5ad27f3ef68a",
   "metadata": {},
   "outputs": [
    {
     "data": {
      "text/plain": [
       "'pwskills'"
      ]
     },
     "execution_count": 25,
     "metadata": {},
     "output_type": "execute_result"
    }
   ],
   "source": [
    "s[0:8]"
   ]
  },
  {
   "cell_type": "code",
   "execution_count": 27,
   "id": "e12979e9-35e8-427a-9527-87bfbd71ba3c",
   "metadata": {},
   "outputs": [
    {
     "data": {
      "text/plain": [
       "'psil'"
      ]
     },
     "execution_count": 27,
     "metadata": {},
     "output_type": "execute_result"
    }
   ],
   "source": [
    "s[0:8:2]"
   ]
  },
  {
   "cell_type": "code",
   "execution_count": 28,
   "id": "fe52fa48-02f2-4ef0-9b33-b4d7acc67562",
   "metadata": {},
   "outputs": [
    {
     "data": {
      "text/plain": [
       "'psil'"
      ]
     },
     "execution_count": 28,
     "metadata": {},
     "output_type": "execute_result"
    }
   ],
   "source": [
    "s[::2]"
   ]
  },
  {
   "cell_type": "code",
   "execution_count": 29,
   "id": "159ba6e8-7c5c-42ff-8b81-7c5837e4d221",
   "metadata": {},
   "outputs": [
    {
     "data": {
      "text/plain": [
       "'pkl'"
      ]
     },
     "execution_count": 29,
     "metadata": {},
     "output_type": "execute_result"
    }
   ],
   "source": [
    "s[0:8:3]"
   ]
  },
  {
   "cell_type": "code",
   "execution_count": 30,
   "id": "eed328f2-bdf9-40c2-822b-5f394e74b7f7",
   "metadata": {},
   "outputs": [
    {
     "data": {
      "text/plain": [
       "'sllikswp'"
      ]
     },
     "execution_count": 30,
     "metadata": {},
     "output_type": "execute_result"
    }
   ],
   "source": [
    "s[::-1]"
   ]
  },
  {
   "cell_type": "code",
   "execution_count": 31,
   "id": "ff2791c6-ff38-4a14-ac6e-3497aa04b1a8",
   "metadata": {},
   "outputs": [
    {
     "data": {
      "text/plain": [
       "'slkw'"
      ]
     },
     "execution_count": 31,
     "metadata": {},
     "output_type": "execute_result"
    }
   ],
   "source": [
    "s[::-2]"
   ]
  },
  {
   "cell_type": "code",
   "execution_count": 32,
   "id": "c70e0044-a0a7-47d9-9b47-a9a662b22dbe",
   "metadata": {},
   "outputs": [
    {
     "data": {
      "text/plain": [
       "'skill'"
      ]
     },
     "execution_count": 32,
     "metadata": {},
     "output_type": "execute_result"
    }
   ],
   "source": [
    "s[2:7:1]"
   ]
  },
  {
   "cell_type": "code",
   "execution_count": 33,
   "id": "d87c7f8b-7d5d-4c43-9dc5-f7504294cb75",
   "metadata": {},
   "outputs": [
    {
     "data": {
      "text/plain": [
       "''"
      ]
     },
     "execution_count": 33,
     "metadata": {},
     "output_type": "execute_result"
    }
   ],
   "source": [
    "s[8:0]"
   ]
  },
  {
   "cell_type": "code",
   "execution_count": 35,
   "id": "bd0ea105-9be8-418e-813b-f429afe7f165",
   "metadata": {},
   "outputs": [
    {
     "data": {
      "text/plain": [
       "''"
      ]
     },
     "execution_count": 35,
     "metadata": {},
     "output_type": "execute_result"
    }
   ],
   "source": [
    "s[-8:-0]"
   ]
  },
  {
   "cell_type": "code",
   "execution_count": null,
   "id": "afe5a27b-de7a-4851-b448-63ecc6ed4967",
   "metadata": {},
   "outputs": [],
   "source": [
    "s[8:]"
   ]
  }
 ],
 "metadata": {
  "kernelspec": {
   "display_name": "Python 3 (ipykernel)",
   "language": "python",
   "name": "python3"
  },
  "language_info": {
   "codemirror_mode": {
    "name": "ipython",
    "version": 3
   },
   "file_extension": ".py",
   "mimetype": "text/x-python",
   "name": "python",
   "nbconvert_exporter": "python",
   "pygments_lexer": "ipython3",
   "version": "3.10.8"
  }
 },
 "nbformat": 4,
 "nbformat_minor": 5
}
